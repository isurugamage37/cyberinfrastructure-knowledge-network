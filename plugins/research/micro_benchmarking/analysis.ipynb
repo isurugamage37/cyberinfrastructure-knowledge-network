{
 "cells": [
  {
   "metadata": {
    "ExecuteTime": {
     "end_time": "2024-11-14T20:46:16.659556Z",
     "start_time": "2024-11-14T20:46:16.655363Z"
    }
   },
   "cell_type": "code",
   "source": [
    "client_send_at = 1731616151.685836\n",
    "client_receive_at = 1731616151.932417\n",
    "\n",
    "server_receive_at = 1731616151.6793165\n",
    "image_save_at = 1731616151.7001498\n",
    "image_preprocessed_at = 1731616151.7119427\n",
    "image_predicted_at = 1731616151.8841903\n",
    "\n",
    "rtt = client_receive_at - client_send_at\n",
    "save_time = image_save_at - server_receive_at\n",
    "preprocess_time = image_preprocessed_at - image_save_at\n",
    "predict_time = image_predicted_at - image_preprocessed_at\n",
    "\n",
    "# round to 3 decimals and in ms\n",
    "rtt = round(rtt * 1000, 3)\n",
    "save_time = round(save_time * 1000, 3)\n",
    "preprocess_time = round(preprocess_time * 1000, 3)\n",
    "predict_time = round(predict_time * 1000, 3)\n",
    "\n",
    "print(f\"RTT: {rtt} ms\")\n",
    "print(f\"Save time: {save_time} ms\")\n",
    "print(f\"Preprocess time: {preprocess_time} ms\")\n",
    "print(f\"Predict time: {predict_time} ms\")\n",
    "print(f\"Total time: {save_time + preprocess_time + predict_time} ms\")\n",
    "    "
   ],
   "id": "1a3e178f49b6d24c",
   "outputs": [
    {
     "name": "stdout",
     "output_type": "stream",
     "text": [
      "RTT: 246.581 ms\n",
      "Save time: 20.833 ms\n",
      "Preprocess time: 11.793 ms\n",
      "Predict time: 172.248 ms\n",
      "Total time: 204.874 ms\n"
     ]
    }
   ],
   "execution_count": 7
  },
  {
   "metadata": {},
   "cell_type": "code",
   "outputs": [],
   "execution_count": null,
   "source": [
    "client_send_at, image_predicted_at, image_preprocessed_at, image_save_at, server_receive_at, client_receive_at = 1731616874.266874, 1731616874.4382594, 1731616874.2941525, 1731616874.2890334, 1731616874.2640457, 1731616874.474093\n",
    "\n",
    "rtt = client_receive_at - client_send_at\n",
    "save_time = image_save_at - server_receive_at\n",
    "preprocess_time = image_preprocessed_at - image_save_at\n",
    "predict_time = image_predicted_at - image_preprocessed_at\n",
    "\n",
    "# round to 3 decimals and in ms\n",
    "rtt = round(rtt * 1000, 3)\n",
    "save_time = round(save_time * 1000, 3)\n",
    "preprocess_time = round(preprocess_time * 1000, 3)\n",
    "predict_time = round(predict_time * 1000, 3)\n",
    "\n",
    "print(f\"RTT: {rtt} ms\")\n",
    "print(f\"Save time: {save_time} ms\")\n",
    "print(f\"Preprocess time: {preprocess_time} ms\")\n",
    "print(f\"Predict time: {predict_time} ms\")"
   ],
   "id": "3f08e85bcb7a9f45"
  }
 ],
 "metadata": {
  "kernelspec": {
   "display_name": "Python 3",
   "language": "python",
   "name": "python3"
  },
  "language_info": {
   "codemirror_mode": {
    "name": "ipython",
    "version": 2
   },
   "file_extension": ".py",
   "mimetype": "text/x-python",
   "name": "python",
   "nbconvert_exporter": "python",
   "pygments_lexer": "ipython2",
   "version": "2.7.6"
  }
 },
 "nbformat": 4,
 "nbformat_minor": 5
}
